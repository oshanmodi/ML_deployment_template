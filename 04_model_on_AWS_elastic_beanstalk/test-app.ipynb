{
 "cells": [
  {
   "attachments": {},
   "cell_type": "markdown",
   "id": "5089e03b-9726-4de3-83be-73ecd563244f",
   "metadata": {},
   "source": [
    "# Titanic - Machine Learning from Disaster\n",
    "\n",
    "Variable Description\n",
    "\n",
    "| Variable  | Definition                           | Key                                   |\n",
    "|-----------|-------------------------------------|---------------------------------------|\n",
    "| survival  | Survival                            | 0 = No, 1 = Yes                       |\n",
    "| pclass    | Ticket class                        | 1 = 1st, 2 = 2nd, 3 = 3rd            |\n",
    "| sex       | Sex                                 |                                       |\n",
    "| Age       | Age in years                        |                                       |\n",
    "| sibsp     | # of siblings / spouses aboard the Titanic |                                   |\n",
    "| parch     | # of parents / children aboard the Titanic |                                   |\n",
    "| ticket    | Ticket number                       |                                       |\n",
    "| fare      | Passenger fare                      |                                       |\n",
    "| cabin     | Cabin number                        |                                       |\n",
    "| embarked  | Port of Embarkation                 | C = Cherbourg, Q = Queenstown, S = Southampton |\n"
   ]
  },
  {
   "cell_type": "code",
   "execution_count": 14,
   "id": "7a78fb34-1899-4060-b795-a4b991b17732",
   "metadata": {},
   "outputs": [],
   "source": [
    "import requests"
   ]
  },
  {
   "cell_type": "code",
   "execution_count": 15,
   "id": "64f805cc",
   "metadata": {},
   "outputs": [],
   "source": [
    "import pandas as pd"
   ]
  },
  {
   "cell_type": "code",
   "execution_count": 30,
   "id": "bac6c9be",
   "metadata": {},
   "outputs": [],
   "source": [
    "passenger1 = {\n",
    "        \"pclass\": 3,\n",
    "        \"sex\": \"male\",\n",
    "        \"age\": 34.5,\n",
    "        \"sibSp\": 0,\n",
    "        \"parch\": 2,\n",
    "        \"fare\":  7.8292,\n",
    "        \"cabin\": 'no',\n",
    "        \"embarked\": \"S\",\n",
    "    }"
   ]
  },
  {
   "cell_type": "code",
   "execution_count": 31,
   "id": "cef9db47",
   "metadata": {},
   "outputs": [],
   "source": [
    "passenger2 = {\n",
    "        \"pclass\": 1,\n",
    "        \"sex\": \"female\",\n",
    "        \"age\": 70,\n",
    "        \"sibSp\": 0,\n",
    "        \"parch\": 1,\n",
    "        \"fare\":  1.8292,\n",
    "        \"cabin\": 'no',\n",
    "        \"embarked\": \"S\",\n",
    "    }"
   ]
  },
  {
   "cell_type": "code",
   "execution_count": 32,
   "id": "012c5c70",
   "metadata": {},
   "outputs": [],
   "source": [
    "# passenger = dftest.iloc[0].to_dict()\n",
    "url = 'http://0.0.0.0:9696/predict'"
   ]
  },
  {
   "cell_type": "code",
   "execution_count": 33,
   "id": "152a1e77",
   "metadata": {},
   "outputs": [
    {
     "data": {
      "text/plain": [
       "<Response [405]>"
      ]
     },
     "execution_count": 33,
     "metadata": {},
     "output_type": "execute_result"
    }
   ],
   "source": [
    "requests.get(url)"
   ]
  },
  {
   "cell_type": "code",
   "execution_count": 34,
   "id": "eb5f717b",
   "metadata": {},
   "outputs": [
    {
     "data": {
      "text/plain": [
       "{'disaster': True, 'disaster_probability': 0.2}"
      ]
     },
     "execution_count": 34,
     "metadata": {},
     "output_type": "execute_result"
    }
   ],
   "source": [
    "response = requests.post(url, json=passenger1)\n",
    "response.json()"
   ]
  },
  {
   "cell_type": "code",
   "execution_count": 35,
   "id": "09bdc470",
   "metadata": {},
   "outputs": [
    {
     "data": {
      "text/plain": [
       "{'disaster': True, 'disaster_probability': 0.64}"
      ]
     },
     "execution_count": 35,
     "metadata": {},
     "output_type": "execute_result"
    }
   ],
   "source": [
    "response = requests.post(url, json=passenger2)\n",
    "response.json()"
   ]
  },
  {
   "cell_type": "code",
   "execution_count": 22,
   "id": "649dc8c1",
   "metadata": {},
   "outputs": [],
   "source": [
    "import pandas as pd\n",
    "import pickle\n",
    "import pandas as pd\n",
    "\n",
    "model_path = \"saved_model.pkl\"\n",
    "\n",
    "\n",
    "def load_model(model_path=model_path):\n",
    "    with open(model_path, \"rb\") as fin:\n",
    "        (model, dv) = pickle.load(fin)\n",
    "        return (model, dv)\n",
    "\n",
    "\n",
    "model, dv = load_model()\n"
   ]
  },
  {
   "cell_type": "code",
   "execution_count": 29,
   "id": "bef72961",
   "metadata": {},
   "outputs": [
    {
     "data": {
      "text/plain": [
       "['age',\n",
       " 'age=female',\n",
       " 'age=male',\n",
       " 'embarked',\n",
       " 'embarked=C',\n",
       " 'embarked=Q',\n",
       " 'embarked=S',\n",
       " 'fare',\n",
       " 'parch',\n",
       " 'pclass',\n",
       " 'sex=female',\n",
       " 'sex=male',\n",
       " 'sibsp']"
      ]
     },
     "execution_count": 29,
     "metadata": {},
     "output_type": "execute_result"
    }
   ],
   "source": [
    "dv.feature_names_"
   ]
  },
  {
   "cell_type": "code",
   "execution_count": 36,
   "id": "92a2f11b",
   "metadata": {},
   "outputs": [
    {
     "data": {
      "text/plain": [
       "array([[70.    ,  0.    ,  0.    ,  0.    ,  0.    ,  0.    ,  1.    ,\n",
       "         1.8292,  1.    ,  1.    ,  1.    ,  0.    ,  0.    ]])"
      ]
     },
     "execution_count": 36,
     "metadata": {},
     "output_type": "execute_result"
    }
   ],
   "source": [
    "dv.transform(passenger2)"
   ]
  },
  {
   "cell_type": "code",
   "execution_count": 24,
   "id": "d3fe64f4",
   "metadata": {},
   "outputs": [],
   "source": [
    "xtest = dv.transform(pd.read_csv('titanic/test.csv').to_dict(orient = 'records'))"
   ]
  },
  {
   "cell_type": "code",
   "execution_count": 25,
   "id": "953450c5",
   "metadata": {},
   "outputs": [],
   "source": [
    "import numpy as np"
   ]
  },
  {
   "cell_type": "code",
   "execution_count": 26,
   "id": "57f2c615",
   "metadata": {},
   "outputs": [
    {
     "data": {
      "text/plain": [
       "array([0.])"
      ]
     },
     "execution_count": 26,
     "metadata": {},
     "output_type": "execute_result"
    }
   ],
   "source": [
    "np.unique(xtest)"
   ]
  },
  {
   "cell_type": "code",
   "execution_count": null,
   "id": "6fdd5326",
   "metadata": {},
   "outputs": [],
   "source": []
  }
 ],
 "metadata": {
  "kernelspec": {
   "display_name": "Python 3 (ipykernel)",
   "language": "python",
   "name": "python3"
  },
  "language_info": {
   "codemirror_mode": {
    "name": "ipython",
    "version": 3
   },
   "file_extension": ".py",
   "mimetype": "text/x-python",
   "name": "python",
   "nbconvert_exporter": "python",
   "pygments_lexer": "ipython3",
   "version": "3.10.10"
  }
 },
 "nbformat": 4,
 "nbformat_minor": 5
}
