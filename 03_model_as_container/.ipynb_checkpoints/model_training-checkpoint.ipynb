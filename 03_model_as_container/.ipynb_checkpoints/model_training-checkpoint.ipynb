{
 "cells": [
  {
   "attachments": {},
   "cell_type": "markdown",
   "id": "5089e03b-9726-4de3-83be-73ecd563244f",
   "metadata": {},
   "source": [
    "# Titanic - Machine Learning from Disaster\n",
    "\n",
    "Variable Description\n",
    "\n",
    "| Variable  | Definition                           | Key                                   |\n",
    "|-----------|-------------------------------------|---------------------------------------|\n",
    "| survival  | Survival                            | 0 = No, 1 = Yes                       |\n",
    "| pclass    | Ticket class                        | 1 = 1st, 2 = 2nd, 3 = 3rd            |\n",
    "| sex       | Sex                                 |                                       |\n",
    "| Age       | Age in years                        |                                       |\n",
    "| sibsp     | # of siblings / spouses aboard the Titanic |                                   |\n",
    "| parch     | # of parents / children aboard the Titanic |                                   |\n",
    "| ticket    | Ticket number                       |                                       |\n",
    "| fare      | Passenger fare                      |                                       |\n",
    "| cabin     | Cabin number                        |                                       |\n",
    "| embarked  | Port of Embarkation                 | C = Cherbourg, Q = Queenstown, S = Southampton |\n"
   ]
  },
  {
   "cell_type": "code",
   "execution_count": 8,
   "id": "7a78fb34-1899-4060-b795-a4b991b17732",
   "metadata": {},
   "outputs": [],
   "source": [
    "import pandas as pd\n",
    "\n",
    "from sklearn.ensemble import RandomForestClassifier\n",
    "from sklearn.model_selection import train_test_split\n",
    "from sklearn.metrics import roc_auc_score\n",
    "\n",
    "from sklearn.feature_extraction import DictVectorizer\n",
    "import pickle"
   ]
  },
  {
   "cell_type": "code",
   "execution_count": 9,
   "id": "86f82185-7ad0-4a7f-8ca8-a5d8ef54da19",
   "metadata": {},
   "outputs": [],
   "source": [
    "dftrain = pd.read_csv(\"titanic/train.csv\")\n",
    "dftest = pd.read_csv(\"titanic/test.csv\")"
   ]
  },
  {
   "cell_type": "code",
   "execution_count": 10,
   "id": "dfc8854b-0451-4e74-8dae-3250d466bc32",
   "metadata": {},
   "outputs": [],
   "source": [
    "dftrain.columns = [col.lower() for col in dftrain.columns]"
   ]
  },
  {
   "cell_type": "code",
   "execution_count": 11,
   "id": "52cb4e85-2a7f-4b62-bebf-2cc7ec215d65",
   "metadata": {},
   "outputs": [],
   "source": [
    "cols_ind_vars = ['pclass','sex','age','sibsp','parch','fare','cabin','embarked'] #independent variables.\n",
    "col_ids = ['passengerid','name'] #ignore from model but keep in data\n",
    "col_ignore = ['cabin','ticket'] #ignore from model and data.\n",
    "\n",
    "col_numeric = ['age','sibsp','fare','parch'] #numeric variables.\n",
    "col_categorical = ['pclass','sex','embarked'] #categorical variables."
   ]
  },
  {
   "cell_type": "code",
   "execution_count": 12,
   "id": "7958aa93-c24e-4c26-a89f-50bc6b2c222e",
   "metadata": {},
   "outputs": [],
   "source": [
    "def prepare_data(data):\n",
    "    \n",
    "    df = data.copy()\n",
    "    df.columns = [col.lower() for col in df.columns]\n",
    "    df.drop(columns = col_ids, inplace =True)\n",
    "    df.drop(columns = col_ignore, inplace = True, errors = 'ignore')\n",
    "    df = df.ffill(axis = 1)\n",
    "    df_dict = df.to_dict(orient = 'records')\n",
    "    return df_dict"
   ]
  },
  {
   "cell_type": "code",
   "execution_count": 13,
   "id": "37ef48a7-7454-41d3-82a3-e7398ccb4e72",
   "metadata": {},
   "outputs": [],
   "source": [
    "# save id cols\n",
    "dftrain_id_cols = dftrain[col_ids].copy()\n",
    "dftrain.drop(columns = col_ids, inplace = True)\n",
    "# remove columns to ignore.\n",
    "dftrain.drop(columns = col_ignore, inplace = True, errors = 'ignore')\n",
    "\n",
    "dftrain = dftrain.ffill(axis = 1)\n",
    "dftrain = dftrain.bfill(axis = 1)"
   ]
  },
  {
   "cell_type": "code",
   "execution_count": 14,
   "id": "eb571d35-f4ff-40f0-8865-ae468438e61c",
   "metadata": {},
   "outputs": [],
   "source": [
    "dftrain_dict = dftrain.to_dict(orient = 'records')"
   ]
  },
  {
   "cell_type": "code",
   "execution_count": 15,
   "id": "5795d64f-5a00-44b3-a9ac-bf121ff7a76e",
   "metadata": {},
   "outputs": [],
   "source": [
    "dv = DictVectorizer(sparse = False)"
   ]
  },
  {
   "cell_type": "code",
   "execution_count": 16,
   "id": "13fdf938-25e4-4f07-985b-340eb43bdbd0",
   "metadata": {},
   "outputs": [],
   "source": [
    "xtrain = dv.fit_transform(dftrain_dict)"
   ]
  },
  {
   "cell_type": "code",
   "execution_count": 17,
   "id": "0b6abdc3-dc9a-4ad3-a776-407dc3354306",
   "metadata": {},
   "outputs": [],
   "source": [
    "ytrain = dftrain.survived.values"
   ]
  },
  {
   "cell_type": "code",
   "execution_count": 18,
   "id": "b9a4d0b5-033d-4157-8761-187b0447a1c8",
   "metadata": {},
   "outputs": [],
   "source": [
    "model =RandomForestClassifier(n_estimators = 10)"
   ]
  },
  {
   "cell_type": "code",
   "execution_count": 19,
   "id": "c74ab0f9-ea83-492f-aee2-15da3c557241",
   "metadata": {},
   "outputs": [
    {
     "data": {
      "text/html": [
       "<style>#sk-container-id-1 {color: black;}#sk-container-id-1 pre{padding: 0;}#sk-container-id-1 div.sk-toggleable {background-color: white;}#sk-container-id-1 label.sk-toggleable__label {cursor: pointer;display: block;width: 100%;margin-bottom: 0;padding: 0.3em;box-sizing: border-box;text-align: center;}#sk-container-id-1 label.sk-toggleable__label-arrow:before {content: \"▸\";float: left;margin-right: 0.25em;color: #696969;}#sk-container-id-1 label.sk-toggleable__label-arrow:hover:before {color: black;}#sk-container-id-1 div.sk-estimator:hover label.sk-toggleable__label-arrow:before {color: black;}#sk-container-id-1 div.sk-toggleable__content {max-height: 0;max-width: 0;overflow: hidden;text-align: left;background-color: #f0f8ff;}#sk-container-id-1 div.sk-toggleable__content pre {margin: 0.2em;color: black;border-radius: 0.25em;background-color: #f0f8ff;}#sk-container-id-1 input.sk-toggleable__control:checked~div.sk-toggleable__content {max-height: 200px;max-width: 100%;overflow: auto;}#sk-container-id-1 input.sk-toggleable__control:checked~label.sk-toggleable__label-arrow:before {content: \"▾\";}#sk-container-id-1 div.sk-estimator input.sk-toggleable__control:checked~label.sk-toggleable__label {background-color: #d4ebff;}#sk-container-id-1 div.sk-label input.sk-toggleable__control:checked~label.sk-toggleable__label {background-color: #d4ebff;}#sk-container-id-1 input.sk-hidden--visually {border: 0;clip: rect(1px 1px 1px 1px);clip: rect(1px, 1px, 1px, 1px);height: 1px;margin: -1px;overflow: hidden;padding: 0;position: absolute;width: 1px;}#sk-container-id-1 div.sk-estimator {font-family: monospace;background-color: #f0f8ff;border: 1px dotted black;border-radius: 0.25em;box-sizing: border-box;margin-bottom: 0.5em;}#sk-container-id-1 div.sk-estimator:hover {background-color: #d4ebff;}#sk-container-id-1 div.sk-parallel-item::after {content: \"\";width: 100%;border-bottom: 1px solid gray;flex-grow: 1;}#sk-container-id-1 div.sk-label:hover label.sk-toggleable__label {background-color: #d4ebff;}#sk-container-id-1 div.sk-serial::before {content: \"\";position: absolute;border-left: 1px solid gray;box-sizing: border-box;top: 0;bottom: 0;left: 50%;z-index: 0;}#sk-container-id-1 div.sk-serial {display: flex;flex-direction: column;align-items: center;background-color: white;padding-right: 0.2em;padding-left: 0.2em;position: relative;}#sk-container-id-1 div.sk-item {position: relative;z-index: 1;}#sk-container-id-1 div.sk-parallel {display: flex;align-items: stretch;justify-content: center;background-color: white;position: relative;}#sk-container-id-1 div.sk-item::before, #sk-container-id-1 div.sk-parallel-item::before {content: \"\";position: absolute;border-left: 1px solid gray;box-sizing: border-box;top: 0;bottom: 0;left: 50%;z-index: -1;}#sk-container-id-1 div.sk-parallel-item {display: flex;flex-direction: column;z-index: 1;position: relative;background-color: white;}#sk-container-id-1 div.sk-parallel-item:first-child::after {align-self: flex-end;width: 50%;}#sk-container-id-1 div.sk-parallel-item:last-child::after {align-self: flex-start;width: 50%;}#sk-container-id-1 div.sk-parallel-item:only-child::after {width: 0;}#sk-container-id-1 div.sk-dashed-wrapped {border: 1px dashed gray;margin: 0 0.4em 0.5em 0.4em;box-sizing: border-box;padding-bottom: 0.4em;background-color: white;}#sk-container-id-1 div.sk-label label {font-family: monospace;font-weight: bold;display: inline-block;line-height: 1.2em;}#sk-container-id-1 div.sk-label-container {text-align: center;}#sk-container-id-1 div.sk-container {/* jupyter's `normalize.less` sets `[hidden] { display: none; }` but bootstrap.min.css set `[hidden] { display: none !important; }` so we also need the `!important` here to be able to override the default hidden behavior on the sphinx rendered scikit-learn.org. See: https://github.com/scikit-learn/scikit-learn/issues/21755 */display: inline-block !important;position: relative;}#sk-container-id-1 div.sk-text-repr-fallback {display: none;}</style><div id=\"sk-container-id-1\" class=\"sk-top-container\"><div class=\"sk-text-repr-fallback\"><pre>RandomForestClassifier(n_estimators=10)</pre><b>In a Jupyter environment, please rerun this cell to show the HTML representation or trust the notebook. <br />On GitHub, the HTML representation is unable to render, please try loading this page with nbviewer.org.</b></div><div class=\"sk-container\" hidden><div class=\"sk-item\"><div class=\"sk-estimator sk-toggleable\"><input class=\"sk-toggleable__control sk-hidden--visually\" id=\"sk-estimator-id-1\" type=\"checkbox\" checked><label for=\"sk-estimator-id-1\" class=\"sk-toggleable__label sk-toggleable__label-arrow\">RandomForestClassifier</label><div class=\"sk-toggleable__content\"><pre>RandomForestClassifier(n_estimators=10)</pre></div></div></div></div></div>"
      ],
      "text/plain": [
       "RandomForestClassifier(n_estimators=10)"
      ]
     },
     "execution_count": 19,
     "metadata": {},
     "output_type": "execute_result"
    }
   ],
   "source": [
    "model.fit(xtrain, ytrain.astype(str))"
   ]
  },
  {
   "cell_type": "code",
   "execution_count": 20,
   "id": "c215998e-8a51-4f6b-97cd-e653d1c766e5",
   "metadata": {},
   "outputs": [],
   "source": [
    "dftest_dict = prepare_data(dftest)\n",
    "xtest = dv.transform(dftest_dict)"
   ]
  },
  {
   "cell_type": "code",
   "execution_count": 21,
   "id": "a4c13489-b794-453c-a068-82686d0f475c",
   "metadata": {},
   "outputs": [],
   "source": [
    "with open('saved_model.pkl','wb') as fout:\n",
    "    pickle.dump((model, dv), fout)"
   ]
  },
  {
   "cell_type": "code",
   "execution_count": 32,
   "id": "eeb65abb-5fb9-4a6b-9bc9-5e5c4517bf2c",
   "metadata": {},
   "outputs": [
    {
     "data": {
      "text/plain": [
       "{'pclass': 3,\n",
       " 'sex': 'male',\n",
       " 'age': 34.5,\n",
       " 'sibsp': 0,\n",
       " 'parch': 0,\n",
       " 'fare': 7.8292,\n",
       " 'embarked': 'Q'}"
      ]
     },
     "execution_count": 32,
     "metadata": {},
     "output_type": "execute_result"
    }
   ],
   "source": [
    "dftest_dict[0]"
   ]
  },
  {
   "cell_type": "code",
   "execution_count": 30,
   "id": "21473ccf-8a48-4c68-90f5-159581776b8d",
   "metadata": {},
   "outputs": [
    {
     "data": {
      "text/plain": [
       "array(['0'], dtype='<U21')"
      ]
     },
     "execution_count": 30,
     "metadata": {},
     "output_type": "execute_result"
    }
   ],
   "source": [
    "model.predict(xtest[[1]])"
   ]
  },
  {
   "cell_type": "code",
   "execution_count": 33,
   "id": "45dddba4-cffc-4bba-8a39-fb77a8bb9f18",
   "metadata": {},
   "outputs": [],
   "source": [
    "row = dv.transform(dftest_dict[0])"
   ]
  },
  {
   "cell_type": "code",
   "execution_count": 43,
   "id": "5cb47167-0443-4ecd-aa8b-362f87be0203",
   "metadata": {},
   "outputs": [
    {
     "data": {
      "text/plain": [
       "0.0"
      ]
     },
     "execution_count": 43,
     "metadata": {},
     "output_type": "execute_result"
    }
   ],
   "source": [
    "model.predict_proba(row)[0][1]"
   ]
  },
  {
   "cell_type": "code",
   "execution_count": null,
   "id": "8b3f626a-e94b-436e-98de-9b08313153dd",
   "metadata": {},
   "outputs": [],
   "source": []
  }
 ],
 "metadata": {
  "kernelspec": {
   "display_name": "Python 3 (ipykernel)",
   "language": "python",
   "name": "python3"
  },
  "language_info": {
   "codemirror_mode": {
    "name": "ipython",
    "version": 3
   },
   "file_extension": ".py",
   "mimetype": "text/x-python",
   "name": "python",
   "nbconvert_exporter": "python",
   "pygments_lexer": "ipython3",
   "version": "3.10.10"
  }
 },
 "nbformat": 4,
 "nbformat_minor": 5
}
