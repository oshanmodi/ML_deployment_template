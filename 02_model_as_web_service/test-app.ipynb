{
 "cells": [
  {
   "attachments": {},
   "cell_type": "markdown",
   "id": "5089e03b-9726-4de3-83be-73ecd563244f",
   "metadata": {},
   "source": [
    "# Titanic - Machine Learning from Disaster\n",
    "\n",
    "Variable Description\n",
    "\n",
    "| Variable  | Definition                           | Key                                   |\n",
    "|-----------|-------------------------------------|---------------------------------------|\n",
    "| survival  | Survival                            | 0 = No, 1 = Yes                       |\n",
    "| pclass    | Ticket class                        | 1 = 1st, 2 = 2nd, 3 = 3rd            |\n",
    "| sex       | Sex                                 |                                       |\n",
    "| Age       | Age in years                        |                                       |\n",
    "| sibsp     | # of siblings / spouses aboard the Titanic |                                   |\n",
    "| parch     | # of parents / children aboard the Titanic |                                   |\n",
    "| ticket    | Ticket number                       |                                       |\n",
    "| fare      | Passenger fare                      |                                       |\n",
    "| cabin     | Cabin number                        |                                       |\n",
    "| embarked  | Port of Embarkation                 | C = Cherbourg, Q = Queenstown, S = Southampton |\n"
   ]
  },
  {
   "cell_type": "code",
   "execution_count": 13,
   "id": "7a78fb34-1899-4060-b795-a4b991b17732",
   "metadata": {},
   "outputs": [],
   "source": [
    "import requests"
   ]
  },
  {
   "cell_type": "code",
   "execution_count": 14,
   "id": "64f805cc",
   "metadata": {},
   "outputs": [],
   "source": [
    "import pandas as pd"
   ]
  },
  {
   "cell_type": "code",
   "execution_count": 27,
   "id": "bac6c9be",
   "metadata": {},
   "outputs": [],
   "source": [
    "passenger1 = {\n",
    "        \"Pclass\": 3,\n",
    "        \"Sex\": \"male\",\n",
    "        \"Age\": 34.5,\n",
    "        \"SibSp\": 0,\n",
    "        \"Parch\": 2,\n",
    "        \"Fare\":  7.8292,\n",
    "        \"Cabin\": 'no',\n",
    "        \"Embarked\": \"S\",\n",
    "    }"
   ]
  },
  {
   "cell_type": "code",
   "execution_count": 28,
   "id": "cef9db47",
   "metadata": {},
   "outputs": [],
   "source": [
    "passenger2 = {\n",
    "        \"PassengerId\": 2,\n",
    "        \"Survived\": 1,\n",
    "        \"Pclass\": 1,\n",
    "        \"Name\": \"Cumings, Mrs. John Bradley (Florence Briggs Thayer)\",\n",
    "        \"Sex\": \"female\",\n",
    "        \"Age\": 38.0,\n",
    "        \"SibSp\": 1,\n",
    "        \"Parch\": 0,\n",
    "        \"Ticket\": \"PC 17599\",\n",
    "        \"Fare\": 71.2833,\n",
    "        \"Cabin\": \"C85\",\n",
    "        \"Embarked\": \"C\",\n",
    "    }"
   ]
  },
  {
   "cell_type": "code",
   "execution_count": 29,
   "id": "012c5c70",
   "metadata": {},
   "outputs": [],
   "source": [
    "# passenger = dftest.iloc[0].to_dict()\n",
    "url = 'http://0.0.0.0:9696/predict'"
   ]
  },
  {
   "cell_type": "code",
   "execution_count": 30,
   "id": "152a1e77",
   "metadata": {},
   "outputs": [
    {
     "data": {
      "text/plain": [
       "<Response [405]>"
      ]
     },
     "execution_count": 30,
     "metadata": {},
     "output_type": "execute_result"
    }
   ],
   "source": [
    "requests.get(url)"
   ]
  },
  {
   "cell_type": "code",
   "execution_count": 31,
   "id": "eb5f717b",
   "metadata": {},
   "outputs": [
    {
     "data": {
      "text/plain": [
       "{'disaster': True, 'disaster_probability': 0.12}"
      ]
     },
     "execution_count": 31,
     "metadata": {},
     "output_type": "execute_result"
    }
   ],
   "source": [
    "response = requests.post(url, json=passenger1)\n",
    "response.json()"
   ]
  },
  {
   "cell_type": "code",
   "execution_count": 32,
   "id": "09bdc470",
   "metadata": {},
   "outputs": [
    {
     "data": {
      "text/plain": [
       "{'disaster': True, 'disaster_probability': 0.12}"
      ]
     },
     "execution_count": 32,
     "metadata": {},
     "output_type": "execute_result"
    }
   ],
   "source": [
    "response = requests.post(url, json=passenger2)\n",
    "response.json()"
   ]
  },
  {
   "cell_type": "code",
   "execution_count": null,
   "id": "d3fe64f4",
   "metadata": {},
   "outputs": [],
   "source": []
  }
 ],
 "metadata": {
  "kernelspec": {
   "display_name": "Python 3 (ipykernel)",
   "language": "python",
   "name": "python3"
  },
  "language_info": {
   "codemirror_mode": {
    "name": "ipython",
    "version": 3
   },
   "file_extension": ".py",
   "mimetype": "text/x-python",
   "name": "python",
   "nbconvert_exporter": "python",
   "pygments_lexer": "ipython3",
   "version": "3.10.10"
  }
 },
 "nbformat": 4,
 "nbformat_minor": 5
}
